{
  "nbformat": 4,
  "nbformat_minor": 0,
  "metadata": {
    "colab": {
      "name": "20191212 자연어처리 교재(실습)_6장_구문분석_.ipynb",
      "provenance": [],
      "collapsed_sections": []
    },
    "kernelspec": {
      "name": "python3",
      "display_name": "Python 3"
    }
  },
  "cells": [
    {
      "cell_type": "markdown",
      "metadata": {
        "id": "yYEltijB06ZT"
      },
      "source": [
        "NLTK 패키지 다운로드"
      ]
    },
    {
      "cell_type": "code",
      "metadata": {
        "id": "KHM-uMujtVMa",
        "colab": {
          "base_uri": "https://localhost:8080/"
        },
        "outputId": "90833761-6a30-4df4-fa05-c86b1c8b85c2"
      },
      "source": [
        "!pip install nltk==3.3"
      ],
      "execution_count": 1,
      "outputs": [
        {
          "output_type": "stream",
          "text": [
            "Collecting nltk==3.3\n",
            "\u001b[?25l  Downloading https://files.pythonhosted.org/packages/50/09/3b1755d528ad9156ee7243d52aa5cd2b809ef053a0f31b53d92853dd653a/nltk-3.3.0.zip (1.4MB)\n",
            "\u001b[K     |████████████████████████████████| 1.4MB 5.8MB/s \n",
            "\u001b[?25hRequirement already satisfied: six in /usr/local/lib/python3.7/dist-packages (from nltk==3.3) (1.15.0)\n",
            "Building wheels for collected packages: nltk\n",
            "  Building wheel for nltk (setup.py) ... \u001b[?25l\u001b[?25hdone\n",
            "  Created wheel for nltk: filename=nltk-3.3-cp37-none-any.whl size=1394471 sha256=765e4732aa4d1481022c5442fa3739ae746dda010a4c31a740157e961b0ce0fe\n",
            "  Stored in directory: /root/.cache/pip/wheels/d1/ab/40/3bceea46922767e42986aef7606a600538ca80de6062dc266c\n",
            "Successfully built nltk\n",
            "Installing collected packages: nltk\n",
            "  Found existing installation: nltk 3.2.5\n",
            "    Uninstalling nltk-3.2.5:\n",
            "      Successfully uninstalled nltk-3.2.5\n",
            "Successfully installed nltk-3.3\n"
          ],
          "name": "stdout"
        }
      ]
    },
    {
      "cell_type": "code",
      "metadata": {
        "id": "V3qhCA7E1KM7"
      },
      "source": [
        "import nltk"
      ],
      "execution_count": 2,
      "outputs": []
    },
    {
      "cell_type": "markdown",
      "metadata": {
        "id": "PnPk00ii1v2M"
      },
      "source": [
        "구구조 구문 분석 규칙 작성"
      ]
    },
    {
      "cell_type": "code",
      "metadata": {
        "id": "qRi1nlY-147c"
      },
      "source": [
        "# a CFG grammar instance corresponding to the input string\n",
        "grammar = nltk.CFG.fromstring(\"\"\"\n",
        "S -> NP VP\n",
        "NP -> NN XSN JK | NN JK\n",
        "VP -> NP VP | VV EP EF\n",
        "NN -> '아이' | '케이크'\n",
        "XSN -> '들'\n",
        "JK -> '이' | '를'\n",
        "VV -> '먹'\n",
        "EP -> '었'\n",
        "EF -> '다'\n",
        "\"\"\")"
      ],
      "execution_count": 5,
      "outputs": []
    },
    {
      "cell_type": "markdown",
      "metadata": {
        "id": "M3LzGE3h2n4Y"
      },
      "source": [
        "규칙 기반 구문 분석기 생성 및 구구조 구문 분석 수행\n",
        "\n",
        "제시된 ChartParser 외에도 ShiftReduceParser, RecursiveDescentParser 등\n",
        "\n",
        "다양한 구문 분석 알고리즘이 제공된다."
      ]
    },
    {
      "cell_type": "code",
      "metadata": {
        "id": "P1GVyHyo3LJN"
      },
      "source": [
        "parser = nltk.ChartParser(grammar)"
      ],
      "execution_count": 6,
      "outputs": []
    },
    {
      "cell_type": "code",
      "metadata": {
        "id": "dGcLUDfj3SZP"
      },
      "source": [
        "sent = ['아이', '들', '이', '케이크', '를', '먹', '었', '다']"
      ],
      "execution_count": 7,
      "outputs": []
    },
    {
      "cell_type": "code",
      "metadata": {
        "id": "z_8CRCs03gxw",
        "colab": {
          "base_uri": "https://localhost:8080/"
        },
        "outputId": "5b0fbb76-4d44-4b7e-b9a9-ec4f3f007c35"
      },
      "source": [
        "for tree in parser.parse(sent):\n",
        "  print(tree)"
      ],
      "execution_count": 8,
      "outputs": [
        {
          "output_type": "stream",
          "text": [
            "(S\n",
            "  (NP (NN 아이) (XSN 들) (JK 이))\n",
            "  (VP (NP (NN 케이크) (JK 를)) (VP (VV 먹) (EP 었) (EF 다))))\n"
          ],
          "name": "stdout"
        }
      ]
    }
  ]
}